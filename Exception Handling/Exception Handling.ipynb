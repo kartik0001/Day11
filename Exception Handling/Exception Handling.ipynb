{
 "cells": [
  {
   "cell_type": "code",
   "execution_count": 4,
   "metadata": {},
   "outputs": [
    {
     "name": "stdout",
     "output_type": "stream",
     "text": [
      "Cannot divide by zero\n"
     ]
    }
   ],
   "source": [
    "'''\n",
    "Q.1- Name and handle the exception occured in the following program: \n",
    "a=3\n",
    "\n",
    " if a<4:\n",
    "\n",
    "    a=a/(a-3)\n",
    "\n",
    "     print(a)\n",
    "\n",
    "'''\n",
    "a=3\n",
    "try:\n",
    "    if a<4:\n",
    "        a=a/(a-3)\n",
    "        print(a)\n",
    "except:\n",
    "    print(\"Cannot divide by zero\")"
   ]
  },
  {
   "cell_type": "code",
   "execution_count": 6,
   "metadata": {},
   "outputs": [
    {
     "name": "stdout",
     "output_type": "stream",
     "text": [
      "Index out of range\n"
     ]
    }
   ],
   "source": [
    "'''\n",
    "\n",
    "Q.2- Name and handle the exception occurred in the following program: \n",
    "\n",
    "l=[1,2,3]\n",
    "\n",
    "print(l[3])\n",
    "\n",
    "'''\n",
    "#The Exception occurring in this program is \"Index Error\"\n",
    "\n",
    "\n",
    "l=[1,2,3]\n",
    "try:\n",
    "    print(l[3])\n",
    "except:\n",
    "    print(\"Index out of range\")\n"
   ]
  },
  {
   "cell_type": "code",
   "execution_count": 7,
   "metadata": {},
   "outputs": [
    {
     "name": "stdout",
     "output_type": "stream",
     "text": [
      "An exception\n"
     ]
    },
    {
     "ename": "NameError",
     "evalue": "Hi there",
     "output_type": "error",
     "traceback": [
      "\u001b[1;31m---------------------------------------------------------------------------\u001b[0m",
      "\u001b[1;31mNameError\u001b[0m                                 Traceback (most recent call last)",
      "\u001b[1;32m<ipython-input-7-df632ee8c4f2>\u001b[0m in \u001b[0;36m<module>\u001b[1;34m()\u001b[0m\n\u001b[0;32m     10\u001b[0m \u001b[1;33m\u001b[0m\u001b[0m\n\u001b[0;32m     11\u001b[0m \u001b[1;32mtry\u001b[0m\u001b[1;33m:\u001b[0m\u001b[1;33m\u001b[0m\u001b[0m\n\u001b[1;32m---> 12\u001b[1;33m     \u001b[1;32mraise\u001b[0m \u001b[0mNameError\u001b[0m\u001b[1;33m(\u001b[0m\u001b[1;34m\"Hi there\"\u001b[0m\u001b[1;33m)\u001b[0m  \u001b[1;31m# Raise Error\u001b[0m\u001b[1;33m\u001b[0m\u001b[0m\n\u001b[0m\u001b[0;32m     13\u001b[0m \u001b[1;32mexcept\u001b[0m \u001b[0mNameError\u001b[0m\u001b[1;33m:\u001b[0m\u001b[1;33m\u001b[0m\u001b[0m\n\u001b[0;32m     14\u001b[0m     \u001b[0mprint\u001b[0m\u001b[1;33m(\u001b[0m\u001b[1;34m\"An exception\"\u001b[0m\u001b[1;33m)\u001b[0m\u001b[1;33m\u001b[0m\u001b[0m\n",
      "\u001b[1;31mNameError\u001b[0m: Hi there"
     ]
    }
   ],
   "source": [
    "'''\n",
    "Q.3- What will be the output of the following code:\n",
    "# Program to depict Raising Exception\n",
    "try:\n",
    "    raise NameError(\"Hi there\")  # Raise Error\n",
    "except NameError:\n",
    "    print(\"An exception\")\n",
    "    raise  # To determine whether the exception was raised or not\n",
    "'''\n",
    "\n",
    "try:\n",
    "    raise NameError(\"Hi there\")  # Raise Error\n",
    "except NameError:\n",
    "    print(\"An exception\")\n",
    "    raise # To determine whether the exception was raised or not\n"
   ]
  },
  {
   "cell_type": "code",
   "execution_count": 9,
   "metadata": {},
   "outputs": [
    {
     "name": "stdout",
     "output_type": "stream",
     "text": [
      "-5.0\n",
      "a/b result in 0\n"
     ]
    }
   ],
   "source": [
    "'''\n",
    "Q.4- What will be the output of the following code:\n",
    " # Function which returns a/b\n",
    "def AbyB(a , b):\n",
    "    try:\n",
    "        c = ((a+b) / (a-b))\n",
    "    except ZeroDivisionError:\n",
    "        print \"a/b result in 0\"\n",
    "    else:\n",
    "        print c\n",
    "# Driver program to test above function\n",
    "AbyB(2.0, 3.0)\n",
    "AbyB(3.0, 3.0)\n",
    "'''\n",
    "\n",
    "def AbyB(a , b):\n",
    "    try:\n",
    "        c = ((a+b) / (a-b))\n",
    "    except ZeroDivisionError:\n",
    "        print(\"a/b result in 0\")\n",
    "    else:\n",
    "        print(c)\n",
    "AbyB(2.0,3.0)\n",
    "AbyB(3.0,3.0)\n"
   ]
  },
  {
   "cell_type": "code",
   "execution_count": null,
   "metadata": {},
   "outputs": [],
   "source": [
    "'''\n",
    "Q.5 Write a program to show and handle following exceptions:\n",
    "1. Import Error\n",
    "2. Value Error\n",
    "3. Index Error\n",
    "'''\n",
    "\n",
    "#Import Error\n",
    "\n",
    "try:\n",
    "    import gw_utility.Book\n",
    "except:\n",
    "    print(\"cannot import file\")\n",
    "\n",
    "#ValueError\n",
    "\n",
    "try:\n",
    "    a=int(input(\"Enter an integer value:\"))\n",
    "    print(\"Correct Input\")\n",
    "except:\n",
    "    print(\"Exception:\", TypeError)\n",
    "\n",
    "\n",
    "\n",
    "#IndexError\n",
    "\n",
    "l=[1,2,3]\n",
    "try:\n",
    "    print(l[3])\n",
    "except:\n",
    "    print(\"Index Error\")\n",
    "\n",
    " "
   ]
  },
  {
   "cell_type": "code",
   "execution_count": null,
   "metadata": {},
   "outputs": [],
   "source": []
  }
 ],
 "metadata": {
  "kernelspec": {
   "display_name": "Python 3",
   "language": "python",
   "name": "python3"
  },
  "language_info": {
   "codemirror_mode": {
    "name": "ipython",
    "version": 3
   },
   "file_extension": ".py",
   "mimetype": "text/x-python",
   "name": "python",
   "nbconvert_exporter": "python",
   "pygments_lexer": "ipython3",
   "version": "3.6.5"
  }
 },
 "nbformat": 4,
 "nbformat_minor": 2
}
